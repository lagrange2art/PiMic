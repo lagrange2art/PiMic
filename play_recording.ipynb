{
 "cells": [
  {
   "cell_type": "code",
   "execution_count": null,
   "id": "acce3337",
   "metadata": {},
   "outputs": [],
   "source": [
    "from IPython.display import Audio\n",
    "import numpy as np\n",
    "from scipy.io.wavfile import write\n",
    "\n",
    "from matplotlib import pyplot as plt\n",
    "\n",
    "from freq_analysis import freq_domain"
   ]
  },
  {
   "cell_type": "code",
   "execution_count": null,
   "id": "cf534ac6",
   "metadata": {},
   "outputs": [],
   "source": [
    "file = 'recording_guitar.npy'#'recording_music.npy'#''recording_noise.npy'# 'recording_noise.npy'#./recording_speaking.npy')\n",
    "save = True\n",
    "\n",
    "t_signal = np.load(file)\n",
    "signal = t_signal[1,:]\n",
    "t = t_signal[0,:]\n",
    "\n",
    "audio = Audio(data=signal, rate=int(len(signal)/t[-1]))\n",
    "\n",
    "if save == True:\n",
    "    with open(file.replace('npy', 'wav'), 'wb') as f:   # save wav file for signla\n",
    "        f.write(audio.data)\n",
    "\n",
    "Audio(data=signal, rate=int(len(signal)/t[-1]), autoplay=True)"
   ]
  },
  {
   "cell_type": "code",
   "execution_count": null,
   "id": "157b1ce7",
   "metadata": {},
   "outputs": [],
   "source": []
  },
  {
   "cell_type": "code",
   "execution_count": null,
   "id": "1e465311",
   "metadata": {},
   "outputs": [],
   "source": [
    "freq, fftsignal = freq_domain(file)"
   ]
  },
  {
   "cell_type": "code",
   "execution_count": null,
   "id": "062cdd5b",
   "metadata": {},
   "outputs": [],
   "source": [
    "\n",
    "ref=1\n",
    "fftsignal = fftsignal[freq >10]\n",
    "freq = freq[freq>10]\n",
    "\n",
    "fig = plt.figure(figsize=(10,5))\n",
    "plt.subplot(121)\n",
    "plt.plot(t, 20*np.log(signal/ref))\n",
    "#plt.axhline(0,color='black')\n",
    "plt.xscale('linear')\n",
    "\n",
    "#plt.yscale('log', base=2)\n",
    "\n",
    "plt.subplot(122)\n",
    "plt.plot(freq, np.abs(fftsignal))\n",
    "plt.xscale('linear')\n",
    "#plt.yscale('log', base=2)"
   ]
  },
  {
   "cell_type": "code",
   "execution_count": null,
   "id": "ccd696ab",
   "metadata": {},
   "outputs": [],
   "source": []
  }
 ],
 "metadata": {
  "kernelspec": {
   "display_name": "Python 3 (ipykernel)",
   "language": "python",
   "name": "python3"
  },
  "language_info": {
   "codemirror_mode": {
    "name": "ipython",
    "version": 3
   },
   "file_extension": ".py",
   "mimetype": "text/x-python",
   "name": "python",
   "nbconvert_exporter": "python",
   "pygments_lexer": "ipython3",
   "version": "3.9.7"
  }
 },
 "nbformat": 4,
 "nbformat_minor": 5
}
